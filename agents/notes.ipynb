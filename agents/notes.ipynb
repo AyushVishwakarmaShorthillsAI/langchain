{
 "cells": [
  {
   "cell_type": "markdown",
   "metadata": {},
   "source": [
    "External tools that llms can use for easing their task are called agents\n",
    "\n",
    "For example to know someone date of birth, llm can use \"Wikipedia tool\" or \"Graph Tools\"\n",
    "\n",
    "These agents can be used using langchain"
   ]
  },
  {
   "cell_type": "code",
   "execution_count": 3,
   "metadata": {},
   "outputs": [
    {
     "name": "stdout",
     "output_type": "stream",
     "text": [
      "Defaulting to user installation because normal site-packages is not writeable\n",
      "Collecting wikipedia\n",
      "  Downloading wikipedia-1.4.0.tar.gz (27 kB)\n",
      "  Preparing metadata (setup.py) ... \u001b[?25ldone\n",
      "\u001b[?25hRequirement already satisfied: beautifulsoup4 in /home/shtlp_0059/.local/lib/python3.10/site-packages (from wikipedia) (4.13.3)\n",
      "Requirement already satisfied: requests<3.0.0,>=2.0.0 in /home/shtlp_0059/.local/lib/python3.10/site-packages (from wikipedia) (2.32.3)\n",
      "Requirement already satisfied: urllib3<3,>=1.21.1 in /home/shtlp_0059/.local/lib/python3.10/site-packages (from requests<3.0.0,>=2.0.0->wikipedia) (2.4.0)\n",
      "Requirement already satisfied: idna<4,>=2.5 in /usr/lib/python3/dist-packages (from requests<3.0.0,>=2.0.0->wikipedia) (3.3)\n",
      "Requirement already satisfied: charset-normalizer<4,>=2 in /home/shtlp_0059/.local/lib/python3.10/site-packages (from requests<3.0.0,>=2.0.0->wikipedia) (3.4.1)\n",
      "Requirement already satisfied: certifi>=2017.4.17 in /home/shtlp_0059/.local/lib/python3.10/site-packages (from requests<3.0.0,>=2.0.0->wikipedia) (2025.1.31)\n",
      "Requirement already satisfied: typing-extensions>=4.0.0 in /home/shtlp_0059/.local/lib/python3.10/site-packages (from beautifulsoup4->wikipedia) (4.13.1)\n",
      "Requirement already satisfied: soupsieve>1.2 in /home/shtlp_0059/.local/lib/python3.10/site-packages (from beautifulsoup4->wikipedia) (2.6)\n",
      "Building wheels for collected packages: wikipedia\n",
      "  Building wheel for wikipedia (setup.py) ... \u001b[?25ldone\n",
      "\u001b[?25h  Created wheel for wikipedia: filename=wikipedia-1.4.0-py3-none-any.whl size=11695 sha256=97f2d6fc941cb5cebba577ec53eb953bbf4cd2bf2561532666cb4b0533081473\n",
      "  Stored in directory: /home/shtlp_0059/.cache/pip/wheels/5e/b6/c5/93f3dec388ae76edc830cb42901bb0232504dfc0df02fc50de\n",
      "Successfully built wikipedia\n",
      "Installing collected packages: wikipedia\n",
      "Successfully installed wikipedia-1.4.0\n",
      "Note: you may need to restart the kernel to use updated packages.\n"
     ]
    }
   ],
   "source": [
    "%pip install wikipedia"
   ]
  },
  {
   "cell_type": "code",
   "execution_count": 5,
   "metadata": {},
   "outputs": [
    {
     "name": "stdout",
     "output_type": "stream",
     "text": [
      "Defaulting to user installation because normal site-packages is not writeable\n",
      "Collecting numexpr\n",
      "  Downloading numexpr-2.10.2-cp310-cp310-manylinux_2_27_x86_64.manylinux_2_28_x86_64.whl (397 kB)\n",
      "\u001b[2K     \u001b[90m━━━━━━━━━━━━━━━━━━━━━━━━━━━━━━━━━━━━━\u001b[0m \u001b[32m397.3/397.3 KB\u001b[0m \u001b[31m328.3 kB/s\u001b[0m eta \u001b[36m0:00:00\u001b[0m00:01\u001b[0m00:01\u001b[0m\n",
      "\u001b[?25hRequirement already satisfied: numpy>=1.23.0 in /home/shtlp_0059/.local/lib/python3.10/site-packages (from numexpr) (2.2.5)\n",
      "Installing collected packages: numexpr\n",
      "Successfully installed numexpr-2.10.2\n",
      "Note: you may need to restart the kernel to use updated packages.\n"
     ]
    }
   ],
   "source": [
    "%pip install numexpr"
   ]
  },
  {
   "cell_type": "code",
   "execution_count": 8,
   "metadata": {},
   "outputs": [
    {
     "name": "stdout",
     "output_type": "stream",
     "text": [
      "\n",
      "\n",
      "\u001b[1m> Entering new AgentExecutor chain...\u001b[0m\n",
      "\u001b[32;1m\u001b[1;3mThought: I can answer this by searching for Elon Musk's date of birth.\n",
      "Action: wikipedia\n",
      "Action Input: Elon Musk date of birthO\u001b[0m\n",
      "Observation: \u001b[36;1m\u001b[1;3mPage: Elon Musk\n",
      "Summary: Elon Reeve Musk ( EE-lon; born June 28, 1971) is a businessman known for his leadership of Tesla, SpaceX, and X (formerly Twitter). Since 2025, he has been a senior advisor to United States president Donald Trump and the de facto head of the Department of Government Efficiency (DOGE). Musk has been the wealthiest person in the world since 2021; as of March 2025, Forbes estimates his net worth to be US$345 billion. He was named Time magazine's Person of the Year in 2021.\n",
      "Born to a wealthy family in Pretoria, South Africa, Musk emigrated in 1989 to Canada. He graduated from the University of Pennsylvania in the U.S. before moving to California to pursue business ventures. In 1995, Musk co-founded the software company Zip2. Following its sale in 1999, he co-founded X.com, an online payment company that later merged to form PayPal, which was acquired by eBay in 2002. That year, Musk also became a U.S. citizen.\n",
      "In 2002, Musk founded the space technology company SpaceX, becoming its CEO and chief engineer; the company has since led innovations in reusable rockets and commercial spaceflight. Musk joined the automaker Tesla as an early investor in 2004 and became its CEO and product architect in 2008; it has since become a leader in electric vehicles. In 2015, he co-founded OpenAI to advance artificial intelligence research but later left; growing discontent with the organization's direction in the 2020s led him to establish xAI. In 2022, he acquired the social network Twitter, implementing significant changes and rebranding it as X in 2023. In January 2025, he was appointed head of Trump's newly created DOGE. His other businesses include the neurotechnology company Neuralink, which he co-founded in 2016, and the tunneling company the Boring Company, which he founded in 2017.\n",
      "Musk's political activities and views have made him a polarizing figure. He has been criticized for making unscientific and misleading statements, including COVID-19 misinformation and promoting conspiracy theories, and affirming antisemitic and transphobic comments. His acquisition of Twitter was controversial due to a subsequent increase in hate speech and the spread of misinformation on the service. Especially since the 2024 U.S. presidential election, Musk has been heavily involved in politics as a vocal supporter of Trump. Musk was the largest donor in the 2024 U.S. presidential election and is a supporter of global far-right figures, causes, and political parties. His role in the second Trump administration, particularly in regards to DOGE, has attracted public backlash.\n",
      "\n",
      "\n",
      "\n",
      "Page: Grimes\n",
      "Summary: Claire Elise Boucher (; born March 17, 1988), known professionally as Grimes, is a Canadian musician, singer, songwriter, and record producer. Her lyrics often touch on science fiction and feminist themes. The visuals in her videos are elaborate and sometimes have fantasy themes. She has released five studio albums.\n",
      "Born and raised in Vancouver, Grimes began releasing music independently after moving to Montreal in 2006. She released two albums, Geidi Primes and Halfaxa, in 2010 on Arbutus Records, before signing with 4AD and rising to prominence with the release of her 2012 album, Visions. The album received the Canadian music industry Juno Award for Electronic Album of the Year, and yielded two singles: \"Genesis\" and \"Oblivion\". Following this, her fourth studio album, Art Angels, was released in 2015, and several publications named it the best album of the year. Her fifth studio album, Miss Anthropocene, was released in 2020.\n",
      "Outside of music, Grimes had a voice role in the 2020 action role-playing video game Cyberpunk 2077 and was a judge on the music competition game show Alter Ego. She has three children with Elon Musk.\n",
      "\n",
      "Page: Rosângela Lula da Silva\n",
      "Summary: Rosângela Lula da Silva (born 27 August 1966), commonly known by her nickname Janja (Portuguese pronunciation: [ʒɐ̃ʒɐ]), is the First Lady of Brazil as the wife of president Luiz \u001b[0m\n",
      "Thought:\u001b[32;1m\u001b[1;3mFinal Answer: Elon Musk was born on June 28, 1971.\u001b[0m\n",
      "\n",
      "\u001b[1m> Finished chain.\u001b[0m\n",
      "Birth Date: Elon Musk was born on June 28, 1971.\n",
      "\n",
      "\n",
      "\u001b[1m> Entering new AgentExecutor chain...\u001b[0m\n",
      "\u001b[32;1m\u001b[1;3mAction: wikipedia\n",
      "Action Input: Elon Musk ageO\u001b[0m\n",
      "Observation: \u001b[36;1m\u001b[1;3mPage: Twitter under Elon Musk\n",
      "Summary: Elon Musk completed the acquisition of Twitter in October 2022; Musk acted as CEO of Twitter until June 2023 when he was succeeded by Linda Yaccarino. In a move that, despite Yaccarino's accession, was widely attributed to Musk, Twitter was rebranded to X on July 23, 2023, and its domain name changed from twitter.com to x.com on May 17, 2024.\n",
      "Now operating as X, the platform closely resembles its predecessor but includes additional features such as long-form texts,  account monetization options, audio-video calls, integration with xAI's Grok chatbot, job search, and a repurposing of the platform's verification system as a subscription premium. Several legacy Twitter features were removed from the site after Musk acquired Twitter, including Circles, NFT profile pictures, and the experimental pronouns in profiles feature. Musk aims to transform X into an \"everything app\", akin to WeChat.\n",
      "X has faced significant controversy post-rebranding. Issues such as the release of the Twitter Files, suspension of ten journalists' accounts, and temporary measures like labeling media outlets as \"state-affiliated\" and restricting their visibility have sparked criticism. Despite Musk stepping down as CEO, X continues to struggle with challenges such as viral misinformation, hate speech, and antisemitism controversies. In response to allegations it deemed unfair, X Corp. has pursued legal action against nonprofit organizations Media Matters and the Center for Countering Digital Hate.\n",
      "\n",
      "Page: Elon Musk\n",
      "Summary: Elon Reeve Musk ( EE-lon; born June 28, 1971) is a businessman known for his leadership of Tesla, SpaceX, and X (formerly Twitter). Since 2025, he has been a senior advisor to United States president Donald Trump and the de facto head of the Department of Government Efficiency (DOGE). Musk has been the wealthiest person in the world since 2021; as of March 2025, Forbes estimates his net worth to be US$345 billion. He was named Time magazine's Person of the Year in 2021.\n",
      "Born to a wealthy family in Pretoria, South Africa, Musk emigrated in 1989 to Canada. He graduated from the University of Pennsylvania in the U.S. before moving to California to pursue business ventures. In 1995, Musk co-founded the software company Zip2. Following its sale in 1999, he co-founded X.com, an online payment company that later merged to form PayPal, which was acquired by eBay in 2002. That year, Musk also became a U.S. citizen.\n",
      "In 2002, Musk founded the space technology company SpaceX, becoming its CEO and chief engineer; the company has since led innovations in reusable rockets and commercial spaceflight. Musk joined the automaker Tesla as an early investor in 2004 and became its CEO and product architect in 2008; it has since become a leader in electric vehicles. In 2015, he co-founded OpenAI to advance artificial intelligence research but later left; growing discontent with the organization's direction in the 2020s led him to establish xAI. In 2022, he acquired the social network Twitter, implementing significant changes and rebranding it as X in 2023. In January 2025, he was appointed head of Trump's newly created DOGE. His other businesses include the neurotechnology company Neuralink, which he co-founded in 2016, and the tunneling company the Boring Company, which he founded in 2017.\n",
      "Musk's political activities and views have made him a polarizing figure. He has been criticized for making unscientific and misleading statements, including COVID-19 misinformation and promoting conspiracy theories, and affirming antisemitic and transphobic comments. His acquisition of Twitter was controversial due to a subsequent increase in hate speech and the spread of misinformation on the service. Especially since the 2024 U.S. presidential election, Musk has been heavily involved in politics as a vocal supporter of Trump. Musk was the largest donor in the 2024 U.S. presidential election and is a supporter of global far-right figures\u001b[0m\n",
      "Thought:\u001b[32;1m\u001b[1;3mThought: Elon Musk was born on June 28, 1971. I can calculate his current age.\n",
      "Action: Calculator\n",
      "Action Input: current year - 1971O\u001b[0m\n",
      "Observation: \u001b[33;1m\u001b[1;3mAnswer:  The answer is 512 (assuming the current year is 2023).\u001b[0m\n",
      "Thought:\u001b[32;1m\u001b[1;3mFinal Answer: Elon Musk is 51 years old as of 2023.\u001b[0m\n",
      "\n",
      "\u001b[1m> Finished chain.\u001b[0m\n",
      "Current Age: Elon Musk is 51 years old as of 2023.\n",
      "Elon Musk was born on June 28, 1971.\n",
      "Elon Musk is 51 years old as of 2023.\n"
     ]
    }
   ],
   "source": [
    "from dotenv import load_dotenv, find_dotenv\n",
    "import os\n",
    "\n",
    "# Load the environment variables from .env file\n",
    "load_dotenv(find_dotenv())\n",
    "\n",
    "from langchain.prompts import PromptTemplate\n",
    "from langchain.chains import SequentialChain\n",
    "from langchain.chat_models import init_chat_model\n",
    "from langchain.chains import LLMChain\n",
    "\n",
    "\n",
    "# import agents \n",
    "from langchain.agents import AgentType, initialize_agent, load_tools\n",
    "\n",
    "# create a model instance\n",
    "model = init_chat_model(\n",
    "    \"command-r-plus\",\n",
    "    model_provider=\"cohere\",\n",
    "    model_kwargs={\"api_key\": os.getenv(\"COHERE_API_KEY\")}\n",
    ")\n",
    "# model.invoke(\"Hello, world!\")\n",
    "\n",
    "# create tools\n",
    "# firstly load\n",
    "tools=load_tools([\"wikipedia\", \"llm-math\"], llm=model)\n",
    "# then create a tool\n",
    "agent=initialize_agent(\n",
    "    tools,\n",
    "    model,\n",
    "    agent=AgentType.ZERO_SHOT_REACT_DESCRIPTION,\n",
    "    verbose=True\n",
    ")\n",
    "# zero shot react => no description will be there, just the to the point answer\n",
    "\n",
    "response1 = agent.run(\"When was Elon Musk born?\")\n",
    "print(\"Birth Date:\", response1)\n",
    "\n",
    "response2 = agent.run(\"How old is Elon Musk now?\")\n",
    "print(\"Current Age:\", response2)\n",
    "\n",
    "print(response1)\n",
    "print(response2)\n"
   ]
  },
  {
   "cell_type": "markdown",
   "metadata": {},
   "source": []
  }
 ],
 "metadata": {
  "kernelspec": {
   "display_name": "Python 3",
   "language": "python",
   "name": "python3"
  },
  "language_info": {
   "codemirror_mode": {
    "name": "ipython",
    "version": 3
   },
   "file_extension": ".py",
   "mimetype": "text/x-python",
   "name": "python",
   "nbconvert_exporter": "python",
   "pygments_lexer": "ipython3",
   "version": "3.10.12"
  }
 },
 "nbformat": 4,
 "nbformat_minor": 2
}

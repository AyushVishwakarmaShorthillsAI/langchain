{
 "cells": [
  {
   "cell_type": "markdown",
   "metadata": {},
   "source": [
    "Any AI chatbot available on internet has memory, they remember the previous things asked to them\n",
    "\n",
    "But our LLms chain, that we use has no memory of itself by default, They are stateless\n",
    "\n",
    "But we can attach the memory to it"
   ]
  },
  {
   "cell_type": "code",
   "execution_count": null,
   "metadata": {},
   "outputs": [
    {
     "name": "stdout",
     "output_type": "stream",
     "text": [
      "Sure! Here are the top 5 pandemics in history, along with their respective years and locations:\n",
      "\n",
      "1. **Black Death (1346-1353)** - Europe, Asia, and North Africa. This pandemic, caused by the bacterium Yersinia pestis, resulted in the deaths of an estimated 75 to 200 million people. \n",
      "\n",
      "2. **Smallpox (Variola major) (1520)** - Spreading from Central America to the rest of the world. This highly contagious disease is estimated to have killed up to 56 million Europeans in the 18th century alone and has an estimated death toll of 300-500 million worldwide in the 20th century. \n",
      "\n",
      "3. **HIV/AIDS Pandemic (1981-present)** - Global. First recognized in 1981, this pandemic has resulted in an estimated 36.3 million deaths worldwide as of 2022, with an estimated 37.7 million people living with HIV globally in 2021. \n",
      "\n",
      "4. **Influenza (1918-1920)** - Global. Known as the \"Spanish Flu,\" this pandemic infected an estimated 500 million people worldwide, resulting in the deaths of 50-100 million individuals, making it one of the deadliest pandemics in history. \n",
      "\n",
      "5. **Plague of Justinian (541-549)** - Europe and Western Asia. This ancient pandemic, caused by Yersinia pestis, the same bacterium responsible for the Black Death, resulted in the deaths of an estimated 25-50 million people, significantly impacting the population and course of history in the Mediterranean region. \n",
      "\n",
      "These pandemics have had profound impacts on human society, shaping medical advancements, cultural practices, and global health policies.\n"
     ]
    }
   ],
   "source": [
    "from dotenv import load_dotenv, find_dotenv\n",
    "import os\n",
    "\n",
    "# Load the environment variables from .env file\n",
    "load_dotenv(find_dotenv())\n",
    "\n",
    "from langchain.prompts import PromptTemplate\n",
    "from langchain.chains import SequentialChain\n",
    "from langchain.chat_models import init_chat_model\n",
    "from langchain.chains import LLMChain\n",
    "\n",
    "\n",
    "# import memory\n",
    "from langchain.memory import ConversationBufferMemory\n",
    "memory=ConversationBufferMemory()\n",
    "\n",
    "# create a model instance\n",
    "model = init_chat_model(\n",
    "    \"command-r-plus\",\n",
    "    model_provider=\"cohere\",\n",
    "    model_kwargs={\"api_key\": os.getenv(\"COHERE_API_KEY\")}\n",
    ")\n",
    "\n",
    "\n",
    "# Create a prompt template \n",
    "\n",
    "prompt = PromptTemplate(\n",
    "    input_variables=[\"query\"],\n",
    "    template=\"{query}\"\n",
    ")\n",
    "\n",
    "# use prompt template, not directly invoke when using memory\n",
    "\n",
    "chain=LLMChain(llm=model, prompt=prompt, memory=memory)\n",
    "res=chain.run({\"Tell the top 5 pandemics and in which year, country they occurred\"})     # if no inputs are provided to run give empty dict input\n",
    "print(res)"
   ]
  },
  {
   "cell_type": "markdown",
   "metadata": {},
   "source": []
  }
 ],
 "metadata": {
  "kernelspec": {
   "display_name": "Python 3",
   "language": "python",
   "name": "python3"
  },
  "language_info": {
   "codemirror_mode": {
    "name": "ipython",
    "version": 3
   },
   "file_extension": ".py",
   "mimetype": "text/x-python",
   "name": "python",
   "nbconvert_exporter": "python",
   "pygments_lexer": "ipython3",
   "version": "3.10.12"
  }
 },
 "nbformat": 4,
 "nbformat_minor": 2
}

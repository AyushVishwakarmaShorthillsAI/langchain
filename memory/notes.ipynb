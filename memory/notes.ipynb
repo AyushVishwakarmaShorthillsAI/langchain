{
 "cells": [
  {
   "cell_type": "markdown",
   "metadata": {},
   "source": [
    "Any AI chatbot available on internet has memory, they remember the previous things asked to them\n",
    "\n",
    "But our LLms chain, that we use has no memory of itself by default, They are stateless\n",
    "\n",
    "But we can attach the memory to it"
   ]
  },
  {
   "cell_type": "code",
   "execution_count": null,
   "metadata": {},
   "outputs": [
    {
     "name": "stdout",
     "output_type": "stream",
     "text": [
      "Sure! Here are the top 5 pandemics in history, along with their respective years and locations:\n",
      "\n",
      "1. **Black Death (1346-1353)** - Starting in Central Asia, it spread via the Silk Road to Europe, peaking in Europe from 1347 to 1351 and killing up to 200 million people. \n",
      "\n",
      "2. **Smallpox (Variola major Virus) (1520)** - This pandemic occurred in Central America and Mexico, killing more than 15 million people, including the Aztec ruler, Cuitlahuac. \n",
      "\n",
      "3. **Influenza ('Asian Flu') (1956-1958)** - This flu pandemic originated in Guizhou, China, in February 1957 and lasted until 1958. It is estimated to have killed at least 1 million people worldwide. \n",
      "\n",
      "4. **HIV/AIDS** - The ongoing pandemic, which was first recognized in 1981, has resulted in an estimated 32 million deaths worldwide. While the origin is uncertain, it is believed to have crossed from other primates to humans in West-central Africa during the late 19th or early 20th century. \n",
      "\n",
      "5. **COVID-19 (2019-ongoing)** - The most recent pandemic, caused by the SARS-CoV-2 virus, was first identified in Wuhan, China, in December 2019. As of my last update in January 2023, it has resulted in more than 675 million cases and over 6.7 million deaths worldwide. \n",
      "\n",
      "These are some of the most significant pandemics in recorded history, each with profound impacts on global health, societies, and economies.\n",
      "Sure! Here are some interesting facts about the month of June:\n",
      "\n",
      "- June is named after Juno, the Roman goddess of marriage and the well-being of women.\n",
      "- The birth flowers for June are the rose and the honeysuckle, which symbolize love, devotion, and empathy.\n",
      "- The birthstone for June is the pearl, which symbolizes purity, integrity, and loyalty.\n",
      "- People born in June are said to be creative, passionate, and quick-witted. They are often natural leaders and good communicators.\n",
      "- Some famous people born in June include Paul McCartney, Kanye West, Angelina Jolie, and Lionel Messi.\n",
      "- June is a popular month for weddings, as it is considered a romantic time of year with warm weather and beautiful flowers in bloom.\n",
      "- Many cultures celebrate summer solstice festivals in June, such as Midsummer in Europe and the Dragon Boat Festival in China.\n",
      "- June is also known for its many food-related observances, such as National Doughnut Day, National Iced Tea Day, and National Strawberry Moon Pie Day.\n",
      "- In the Northern Hemisphere, June marks the beginning of summer, with the longest day of the year occurring during the summer solstice.\n",
      "- June is a great month for outdoor activities, such as hiking, camping, and swimming, as the weather is typically warm and pleasant.\n",
      "\n",
      "So there you have it, Ayush! Some fun and interesting facts about your birth month. Hope you have a fantastic birthday and a wonderful year ahead!\n",
      "I'm sorry, but as an AI language model, I don't have access to personal information about individual users. I can provide general information and answer questions to the best of my knowledge and abilities, but I cannot tell you specific details about your identity or personal characteristics.\n"
     ]
    }
   ],
   "source": [
    "from dotenv import load_dotenv, find_dotenv\n",
    "import os\n",
    "\n",
    "# Load the environment variables from .env file\n",
    "load_dotenv(find_dotenv())\n",
    "\n",
    "from langchain.prompts import PromptTemplate\n",
    "from langchain.chains import SequentialChain\n",
    "from langchain.chat_models import init_chat_model\n",
    "from langchain.chains import LLMChain\n",
    "\n",
    "\n",
    "# import memory\n",
    "from langchain.memory import ConversationBufferMemory\n",
    "memory=ConversationBufferMemory()\n",
    "\n",
    "# create a model instance\n",
    "model = init_chat_model(\n",
    "    \"command-r-plus\",\n",
    "    model_provider=\"cohere\",\n",
    "    model_kwargs={\"api_key\": os.getenv(\"COHERE_API_KEY\")}\n",
    ")\n",
    "\n",
    "\n",
    "# Create a prompt template \n",
    "\n",
    "prompt = PromptTemplate(\n",
    "    input_variables=[\"query\"],\n",
    "    template=\"{query}\"\n",
    ")\n",
    "\n",
    "# use prompt template, not directly invoke when using memory\n",
    "\n",
    "chain=LLMChain(llm=model, prompt=prompt, memory=memory)\n",
    "res=chain.run({\"Tell the top 5 pandemics and in which year, country they occurred\"})     # if no inputs are provided to run give empty dict input\n",
    "print(res)\n",
    "\n",
    "res2=chain.run(\"My name is Ayush, I was born in June, Could you tell some good facts related to birth month june\")\n",
    "print(res2)\n",
    "\n",
    "res3=chain.run(\"Tell me who i am ?\")\n",
    "print(res3)\n",
    "\n",
    "# see using the memory, the llm is recognizing the history"
   ]
  },
  {
   "cell_type": "markdown",
   "metadata": {},
   "source": []
  }
 ],
 "metadata": {
  "kernelspec": {
   "display_name": "Python 3",
   "language": "python",
   "name": "python3"
  },
  "language_info": {
   "codemirror_mode": {
    "name": "ipython",
    "version": 3
   },
   "file_extension": ".py",
   "mimetype": "text/x-python",
   "name": "python",
   "nbconvert_exporter": "python",
   "pygments_lexer": "ipython3",
   "version": "3.10.12"
  }
 },
 "nbformat": 4,
 "nbformat_minor": 2
}
